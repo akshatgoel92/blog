{
 "cells": [
  {
   "cell_type": "raw",
   "id": "228117fb-7191-40e2-b67f-3214e60fe2cc",
   "metadata": {},
   "source": [
    "---\n",
    "title: New Post\n",
    "date: 2023-07-12\n",
    "description: A nice new post\n",
    "categories: [nonsense, code]\n",
    "---"
   ]
  },
  {
   "cell_type": "markdown",
   "id": "fe7d77ff-e24c-45ac-930b-b1f2a847cac3",
   "metadata": {},
   "source": [
    "# Hello world!\n"
   ]
  },
  {
   "cell_type": "code",
   "execution_count": null,
   "id": "81554950-70b7-4e3f-8066-d63d411e36e0",
   "metadata": {},
   "outputs": [
    {
     "name": "stdout",
     "output_type": "stream",
     "text": [
      "Hello world!\n"
     ]
    }
   ],
   "source": [
    "print('Hello world!')"
   ]
  },
  {
   "cell_type": "code",
   "execution_count": null,
   "id": "36b8287b-1dd9-42e8-b520-33cfe3597a50",
   "metadata": {},
   "outputs": [],
   "source": []
  }
 ],
 "metadata": {
  "kernelspec": {
   "display_name": "python3",
   "language": "python",
   "name": "python3"
  }
 },
 "nbformat": 4,
 "nbformat_minor": 5
}
