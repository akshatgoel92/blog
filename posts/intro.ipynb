{
 "cells": [
  {
   "cell_type": "raw",
   "id": "228117fb-7191-40e2-b67f-3214e60fe2cc",
   "metadata": {},
   "source": [
    "---\n",
    "title: Welcome!\n",
    "date: 2024-12-08\n",
    "categories: [misc]\n",
    "---"
   ]
  },
  {
   "cell_type": "markdown",
   "id": "fe7d77ff-e24c-45ac-930b-b1f2a847cac3",
   "metadata": {},
   "source": [
    "# Welcome!\n",
    "\n",
    "Hello! I'm Akshat. This is my first blog post, and also almost my first time sharing my writing on the internet. I like to read about almost anything that I can get my hands on. I have an academic background in economics, statistics, and machine learning. In my professional life, I work as a data scientist at an education NGO in New Delhi, India. \n",
    "\n",
    "I have many thoughts on working in the social sector, especially in technology roles, and also about economics, history, and statistics and machine learning. It is an interesting time to be in these fields, and there is a lot to learn and keep up with. I enjoy sharing what I learn from my reading and experiences with others. I hope maintaining this website will not only let me satisfy this need to share and express myself, but also keep me committed to completing the books and side projects that I start. Enjoy!"
   ]
  }
 ],
 "metadata": {
  "kernelspec": {
   "display_name": "python3",
   "language": "python",
   "name": "python3"
  }
 },
 "nbformat": 4,
 "nbformat_minor": 5
}
